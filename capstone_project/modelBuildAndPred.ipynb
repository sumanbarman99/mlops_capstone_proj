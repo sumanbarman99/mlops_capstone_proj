{
 "cells": [
  {
   "cell_type": "code",
   "execution_count": 1,
   "id": "9a731181",
   "metadata": {},
   "outputs": [
    {
     "name": "stderr",
     "output_type": "stream",
     "text": [
      "/home/azureuser/anaconda3/lib/python3.9/site-packages/pandas/core/computation/expressions.py:21: UserWarning: Pandas requires version '2.8.4' or newer of 'numexpr' (version '2.8.1' currently installed).\n",
      "  from pandas.core.computation.check import NUMEXPR_INSTALLED\n",
      "/home/azureuser/anaconda3/lib/python3.9/site-packages/pandas/core/arrays/masked.py:61: UserWarning: Pandas requires version '1.3.6' or newer of 'bottleneck' (version '1.3.4' currently installed).\n",
      "  from pandas.core import (\n"
     ]
    }
   ],
   "source": [
    "import pandas as pd\n",
    "import numpy as np\n",
    "import warnings\n",
    "\n",
    "from sklearn.model_selection import train_test_split\n",
    "from sklearn.preprocessing import StandardScaler, OneHotEncoder\n",
    "from sklearn.compose import ColumnTransformer\n",
    "from sklearn.pipeline import Pipeline\n",
    "from sklearn.impute import SimpleImputer\n",
    "from sklearn.linear_model import LinearRegression, Ridge\n",
    "from sklearn.ensemble import RandomForestRegressor\n",
    "from sklearn.svm import SVR\n",
    "from sklearn.neighbors import KNeighborsRegressor\n",
    "from sklearn.metrics import mean_squared_error, mean_absolute_error, r2_score, mean_absolute_percentage_error\n",
    "\n",
    "import mlflow\n",
    "from mlflow.models import infer_signature\n",
    "import mlflow.sklearn\n",
    "import mlflow.pyfunc\n",
    "\n",
    "# Suppress some common warnings for cleaner output\n",
    "warnings.filterwarnings(\"ignore\")\n"
   ]
  },
  {
   "cell_type": "code",
   "execution_count": 2,
   "id": "a614a328",
   "metadata": {},
   "outputs": [
    {
     "name": "stdout",
     "output_type": "stream",
     "text": [
      "Starting MLflow experiment to train models...\n"
     ]
    },
    {
     "name": "stderr",
     "output_type": "stream",
     "text": [
      "2025/08/12 19:23:58 WARNING mlflow.models.model: `artifact_path` is deprecated. Please use `name` instead.\n"
     ]
    },
    {
     "name": "stdout",
     "output_type": "stream",
     "text": [
      "LinearRegression run completed with RMSE: 8.20, MAE: 2.26, R2: 0.85, MAPE: 0.11\n",
      "  New best model found: LinearRegression\n",
      "🏃 View run LinearRegression at: http://localhost:5000/#/experiments/4/runs/9e546da64a6d4f19a78703599b0a3082\n",
      "🧪 View experiment at: http://localhost:5000/#/experiments/4\n"
     ]
    },
    {
     "name": "stderr",
     "output_type": "stream",
     "text": [
      "2025/08/12 19:24:05 WARNING mlflow.models.model: `artifact_path` is deprecated. Please use `name` instead.\n"
     ]
    },
    {
     "name": "stdout",
     "output_type": "stream",
     "text": [
      "Ridge run completed with RMSE: 8.21, MAE: 2.25, R2: 0.85, MAPE: 0.11\n",
      "🏃 View run Ridge at: http://localhost:5000/#/experiments/4/runs/cc46a27ad47c4e1ba12e14cffbe13b87\n",
      "🧪 View experiment at: http://localhost:5000/#/experiments/4\n"
     ]
    },
    {
     "name": "stderr",
     "output_type": "stream",
     "text": [
      "2025/08/12 19:24:08 WARNING mlflow.models.model: `artifact_path` is deprecated. Please use `name` instead.\n"
     ]
    },
    {
     "name": "stdout",
     "output_type": "stream",
     "text": [
      "RandomForest run completed with RMSE: 5.02, MAE: 1.61, R2: 0.91, MAPE: 0.07\n",
      "  New best model found: RandomForest\n",
      "🏃 View run RandomForest at: http://localhost:5000/#/experiments/4/runs/6071b34f94b64571a52b6d402b67226e\n",
      "🧪 View experiment at: http://localhost:5000/#/experiments/4\n"
     ]
    },
    {
     "name": "stderr",
     "output_type": "stream",
     "text": [
      "2025/08/12 19:24:10 WARNING mlflow.models.model: `artifact_path` is deprecated. Please use `name` instead.\n"
     ]
    },
    {
     "name": "stdout",
     "output_type": "stream",
     "text": [
      "SVR run completed with RMSE: 6.80, MAE: 1.81, R2: 0.87, MAPE: 0.08\n",
      "🏃 View run SVR at: http://localhost:5000/#/experiments/4/runs/f99b40a1377c4824accd10d48f3f0b04\n",
      "🧪 View experiment at: http://localhost:5000/#/experiments/4\n"
     ]
    },
    {
     "name": "stderr",
     "output_type": "stream",
     "text": [
      "2025/08/12 19:24:13 WARNING mlflow.models.model: `artifact_path` is deprecated. Please use `name` instead.\n",
      "Registered model 'BestAutoMPGModel' already exists. Creating a new version of this model...\n",
      "2025/08/12 19:24:16 WARNING mlflow.tracking._model_registry.fluent: Run with id 6071b34f94b64571a52b6d402b67226e has no artifacts at artifact path 'model', registering model based on models:/m-9dd30cc68ce54e8db69cef7458bb8189 instead\n"
     ]
    },
    {
     "name": "stdout",
     "output_type": "stream",
     "text": [
      "KNN run completed with RMSE: 5.40, MAE: 1.89, R2: 0.90, MAPE: 0.08\n",
      "🏃 View run KNN at: http://localhost:5000/#/experiments/4/runs/7e914f9ce60d443ca8d88f1ad5a6cff7\n",
      "🧪 View experiment at: http://localhost:5000/#/experiments/4\n",
      "\n",
      "Registering the best model with RMSE: 5.02\n"
     ]
    },
    {
     "name": "stderr",
     "output_type": "stream",
     "text": [
      "2025/08/12 19:24:16 INFO mlflow.store.model_registry.abstract_store: Waiting up to 300 seconds for model version to finish creation. Model name: BestAutoMPGModel, version 12\n",
      "Created version '12' of model 'BestAutoMPGModel'.\n"
     ]
    },
    {
     "name": "stdout",
     "output_type": "stream",
     "text": [
      "Registered model: BestAutoMPGModel version 12\n"
     ]
    }
   ],
   "source": [
    "# ========== 1. DATA LOADING AND PREPARATION ==========\n",
    "# Define URL and column names for the Auto-MPG dataset\n",
    "url = \"https://archive.ics.uci.edu/ml/machine-learning-databases/auto-mpg/auto-mpg.data\"\n",
    "column_names = [\n",
    "    \"mpg\", \"cylinders\", \"displacement\", \"horsepower\",\n",
    "    \"weight\", \"acceleration\", \"model_year\", \"origin\", \"car_name\"\n",
    "]\n",
    "\n",
    "# Load the dataset. '?' is a placeholder for missing values.\n",
    "df = pd.read_csv(url, delim_whitespace=True, names=column_names, na_values=\"?\")\n",
    "\n",
    "# Drop the 'car_name' column as it's not useful for the model\n",
    "df = df.drop(columns=['car_name'])\n",
    "\n",
    "# Define features (X) and target (y)\n",
    "X = df.drop(columns=['mpg'])\n",
    "y = df['mpg']\n",
    "\n",
    "# ========== 2. PREPROCESSING PIPELINE ==========\n",
    "# This section creates a reproducible data preprocessing pipeline.\n",
    "# It's more robust than manual steps as it can be saved with the model.\n",
    "\n",
    "# Define which columns are numerical and which are categorical\n",
    "numerical_features = X.select_dtypes(include=np.number).columns.tolist()\n",
    "categorical_features = X.select_dtypes(include=['object']).columns.tolist()\n",
    "\n",
    "# Create a transformer for numerical features\n",
    "# It will fill missing values with the median and then scale the data\n",
    "numerical_transformer = Pipeline(steps=[\n",
    "    ('imputer', SimpleImputer(strategy='median')),\n",
    "    ('scaler', StandardScaler())\n",
    "])\n",
    "\n",
    "# Create a transformer for categorical features\n",
    "# It will use one-hot encoding\n",
    "categorical_transformer = Pipeline(steps=[\n",
    "    ('onehot', OneHotEncoder(handle_unknown='ignore'))\n",
    "])\n",
    "\n",
    "# Combine the transformers into a single preprocessor using ColumnTransformer\n",
    "# This applies the correct transformation to each column type\n",
    "preprocessor = ColumnTransformer(\n",
    "    transformers=[\n",
    "        ('num', numerical_transformer, numerical_features),\n",
    "        ('cat', categorical_transformer, categorical_features)\n",
    "    ],\n",
    "    remainder='drop'  # Drop any columns not specified\n",
    ")\n",
    "\n",
    "# ========== 3. SPLIT DATA ==========\n",
    "X_train, X_test, y_train, y_test = train_test_split(\n",
    "    X, y, test_size=0.2, random_state=42\n",
    ")\n",
    "\n",
    "# ========== 4. MODELS TO TRAIN ==========\n",
    "models = {\n",
    "    \"LinearRegression\": LinearRegression(),\n",
    "    \"Ridge\": Ridge(alpha=1.0),\n",
    "    \"RandomForest\": RandomForestRegressor(n_estimators=30, random_state=42),\n",
    "    \"SVR\": SVR(),\n",
    "    \"KNN\": KNeighborsRegressor(n_neighbors=5)\n",
    "}\n",
    "\n",
    "# ========== 5. MLflow SETUP ==========\n",
    "# Set the MLflow tracking server URI and experiment name\n",
    "mlflow.set_tracking_uri(\"http://localhost:5000\")\n",
    "mlflow.set_experiment(\"AutoMPG_Model_Training_v3_Refined\")\n",
    "\n",
    "best_rmse = float('inf')\n",
    "best_model_uri = \"\"\n",
    "registered_model_name = \"BestAutoMPGModel\"\n",
    "\n",
    "# ========== 6. TRAIN & TRACK MODELS ==========\n",
    "print(\"Starting MLflow experiment to train models...\")\n",
    "for name, model in models.items():\n",
    "    with mlflow.start_run(run_name=name) as run:\n",
    "        # Create a full pipeline that includes the preprocessor and the model\n",
    "        full_pipeline = Pipeline(steps=[('preprocessor', preprocessor), ('regressor', model)])\n",
    "\n",
    "        # Train the full pipeline with the raw data. The pipeline handles all preprocessing steps.\n",
    "        full_pipeline.fit(X_train, y_train)\n",
    "        y_pred = full_pipeline.predict(X_test)\n",
    "\n",
    "        # Calculate metrics \n",
    "        rmse = mean_squared_error(y_test, y_pred)\n",
    "        mae = mean_absolute_error(y_test, y_pred)\n",
    "        r2 = r2_score(y_test, y_pred)\n",
    "        mape = mean_absolute_percentage_error(y_test, y_pred)\n",
    "\n",
    "        # Log parameters and metrics to MLflow\n",
    "        mlflow.log_param(\"model_type\", name)\n",
    "        mlflow.log_metric(\"rmse\", rmse)\n",
    "        mlflow.log_metric(\"mae\", mae)\n",
    "        mlflow.log_metric(\"r2_score\", r2)\n",
    "        mlflow.log_metric(\"mape\", mape)\n",
    "\n",
    "        # Infer and log the model signature for the full pipeline\n",
    "        signature = infer_signature(X_train, full_pipeline.predict(X_train))\n",
    "        mlflow.sklearn.log_model(\n",
    "            sk_model=full_pipeline,\n",
    "            artifact_path=\"model\",\n",
    "            input_example=X_train.head(5),\n",
    "            signature=signature\n",
    "        )\n",
    "\n",
    "        print(f\"{name} run completed with RMSE: {rmse:.2f}, MAE: {mae:.2f}, R2: {r2:.2f}, MAPE: {mape:.2f}\")\n",
    "\n",
    "        # Check if this is the best model so far\n",
    "        if rmse < best_rmse:\n",
    "            best_rmse = rmse\n",
    "            best_model_uri = f\"runs:/{run.info.run_id}/model\"\n",
    "            print(f\"  New best model found: {name}\")\n",
    "\n",
    "# ========== 7. REGISTER THE BEST MODEL ==========\n",
    "if best_model_uri:\n",
    "    print(f\"\\nRegistering the best model with RMSE: {best_rmse:.2f}\")\n",
    "    result = mlflow.register_model(\n",
    "        model_uri=best_model_uri,\n",
    "        name=registered_model_name\n",
    "    )\n",
    "    print(f\"Registered model: {result.name} version {result.version}\")\n",
    "else:\n",
    "    print(\"\\nNo models were trained, cannot register.\")"
   ]
  },
  {
   "cell_type": "code",
   "execution_count": 3,
   "id": "7d3c1076",
   "metadata": {},
   "outputs": [
    {
     "data": {
      "application/vnd.jupyter.widget-view+json": {
       "model_id": "f2711491ef6d4d08a2866617be698865",
       "version_major": 2,
       "version_minor": 0
      },
      "text/plain": [
       "Downloading artifacts:   0%|          | 0/7 [00:00<?, ?it/s]"
      ]
     },
     "metadata": {},
     "output_type": "display_data"
    },
    {
     "name": "stdout",
     "output_type": "stream",
     "text": [
      "Loaded Model Pipeline(steps=[('preprocessor',\n",
      "                 ColumnTransformer(transformers=[('num',\n",
      "                                                  Pipeline(steps=[('imputer',\n",
      "                                                                   SimpleImputer(strategy='median')),\n",
      "                                                                  ('scaler',\n",
      "                                                                   StandardScaler())]),\n",
      "                                                  ['cylinders', 'displacement',\n",
      "                                                   'horsepower', 'weight',\n",
      "                                                   'acceleration', 'model_year',\n",
      "                                                   'origin']),\n",
      "                                                 ('cat',\n",
      "                                                  Pipeline(steps=[('onehot',\n",
      "                                                                   OneHotEncoder(handle_unknown='ignore'))]),\n",
      "                                                  [])])),\n",
      "                ('regressor',\n",
      "                 RandomForestRegressor(n_estimators=30, random_state=42))])\n"
     ]
    }
   ],
   "source": [
    "import mlflow\n",
    "\n",
    "mlflow.set_tracking_uri(\"http://localhost:5000\")\n",
    "\n",
    "reg_model_name = result.name\n",
    "version = result.version\n",
    "\n",
    "# Fix: Use the variable 'version' not the string \"version\"\n",
    "model_uri = f\"models:/{reg_model_name}/{version}\"\n",
    "\n",
    "loaded_model = mlflow.sklearn.load_model(model_uri)\n",
    "print(\"Loaded Model\", loaded_model)\n"
   ]
  },
  {
   "cell_type": "code",
   "execution_count": 6,
   "id": "7684d475",
   "metadata": {},
   "outputs": [
    {
     "name": "stdout",
     "output_type": "stream",
     "text": [
      "Best model pipeline saved as 'bestAutoMPGModel.pkl'\n"
     ]
    }
   ],
   "source": [
    "import joblib\n",
    "\n",
    "# ========== 8. SAVE BEST MODEL LOCALLY ==========\n",
    "if 'loaded_model' in locals():\n",
    "    joblib.dump(loaded_model, 'bestAutoMPGModel.pkl')\n",
    "    print(\"Best model pipeline saved as 'bestAutoMPGModel.pkl'\")\n",
    "else:\n",
    "    print(\"No best model found to save.\")\n"
   ]
  },
  {
   "cell_type": "code",
   "execution_count": 7,
   "id": "80194043",
   "metadata": {},
   "outputs": [
    {
     "data": {
      "text/plain": [
       "array([31.13333333, 29.95666667, 20.07      , 15.        , 14.28333333,\n",
       "       25.16666667, 25.73      , 12.06666667, 18.16333333, 19.5       ,\n",
       "       13.73333333, 33.88666667, 27.48333333, 14.73333333, 25.16666667,\n",
       "       12.2       , 30.23      , 19.41333333, 15.44666667, 35.68      ,\n",
       "       23.87      , 19.13333333, 31.51333333, 28.71666667, 16.27333333,\n",
       "       38.38      , 25.36666667, 24.54666667, 19.77666667, 12.33333333,\n",
       "       27.25666667, 34.21      , 18.01666667, 24.40333333, 37.80666667,\n",
       "       13.6       , 21.92      , 18.51      , 14.31666667, 26.06333333,\n",
       "       26.08      , 28.15      , 20.9       , 11.23333333, 23.2       ,\n",
       "       34.98333333, 26.24666667, 22.62      , 24.46333333, 26.11333333,\n",
       "       23.16666667, 33.6       , 33.25666667, 12.26666667, 27.10666667,\n",
       "       13.03333333, 16.53      , 29.92      , 23.65666667, 19.51      ,\n",
       "       14.13333333, 30.95      , 24.45333333, 20.03333333, 19.06666667,\n",
       "       25.54333333, 22.85      , 34.81666667, 26.21666667, 14.45      ,\n",
       "       34.33666667, 13.91666667, 13.83333333, 18.80333333, 28.62      ,\n",
       "       20.51666667, 18.58333333, 29.59333333, 28.55      , 17.35666667])"
      ]
     },
     "execution_count": 7,
     "metadata": {},
     "output_type": "execute_result"
    }
   ],
   "source": [
    "loaded_model.predict(X_test)"
   ]
  },
  {
   "cell_type": "code",
   "execution_count": null,
   "id": "fc86e933",
   "metadata": {},
   "outputs": [],
   "source": []
  }
 ],
 "metadata": {
  "kernelspec": {
   "display_name": "Python 3 (ipykernel)",
   "language": "python",
   "name": "python3"
  },
  "language_info": {
   "codemirror_mode": {
    "name": "ipython",
    "version": 3
   },
   "file_extension": ".py",
   "mimetype": "text/x-python",
   "name": "python",
   "nbconvert_exporter": "python",
   "pygments_lexer": "ipython3",
   "version": "3.9.12"
  }
 },
 "nbformat": 4,
 "nbformat_minor": 5
}
